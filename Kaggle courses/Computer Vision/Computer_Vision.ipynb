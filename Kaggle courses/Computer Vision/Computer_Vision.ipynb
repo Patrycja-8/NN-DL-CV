{
 "cells": [
  {
   "cell_type": "markdown",
   "id": "618ea437",
   "metadata": {},
   "source": [
    "# Lesson 1 A Convolutional Classifier"
   ]
  },
  {
   "cell_type": "markdown",
   "id": "20e28e81",
   "metadata": {},
   "source": [
    "### Transfer learning\n",
    "When doing transfer learning, it's generally **not a good idea** to retrain the entire base -- at least not without some care. The reason is that the random **weights** in the head will initially create **large gradient updates**, which propogate back into the base layers and destroy much of the pretraining. Using techniques known as fine tuning it's possible to further train the base on new data, but this requires some care to do well.\n",
    "\n",
    "Convolutional image classifiers, consist of a base for extracting features from images, and a head which uses the features to decide the image's class. You also saw how to build a classifier with transfer learning on pretrained base."
   ]
  },
  {
   "cell_type": "code",
   "execution_count": null,
   "id": "140bea29",
   "metadata": {},
   "outputs": [],
   "source": [
    "pretrained_base = tf.keras.models.load_model('../input/cv-course-models/cv-course-models/inceptionv1')\n",
    "pretrained_base.trainable = False\n",
    "\n",
    "model = keras.Sequential([\n",
    "    pretrained_base,\n",
    "    layers.Flatten(),\n",
    "    layers.Dense(6,activation='relu'),\n",
    "    layers.Dense(1,activation='sigmoid')\n",
    "])\n",
    "\n",
    "optimizer = tf.keras.optimizers.Adam(epsilon=0.01)\n",
    "model.compile(\n",
    "    optimizer=optimizer,\n",
    "    loss = 'binary_crossentropy',\n",
    "    metrics=['binary_accuracy'],\n",
    ")\n",
    "\n",
    "history = model.fit(\n",
    "    ds_train,\n",
    "    validation_data=ds_valid,\n",
    "    epochs=30,\n",
    ")\n",
    "\n"
   ]
  },
  {
   "cell_type": "markdown",
   "id": "32570ed8",
   "metadata": {},
   "source": [
    "# Lesson 2 Convolution and ReLU"
   ]
  },
  {
   "cell_type": "code",
   "execution_count": null,
   "id": "db9efc27",
   "metadata": {},
   "outputs": [],
   "source": []
  },
  {
   "cell_type": "markdown",
   "id": "631d71d9",
   "metadata": {},
   "source": [
    "# Lesson 3 Maximum Pooling"
   ]
  },
  {
   "cell_type": "code",
   "execution_count": null,
   "id": "77fb8e71",
   "metadata": {},
   "outputs": [],
   "source": []
  },
  {
   "cell_type": "markdown",
   "id": "23e2724b",
   "metadata": {},
   "source": [
    "# Lesson 4 The sliding window"
   ]
  },
  {
   "cell_type": "code",
   "execution_count": null,
   "id": "e8930d89",
   "metadata": {},
   "outputs": [],
   "source": []
  },
  {
   "cell_type": "markdown",
   "id": "add358b0",
   "metadata": {},
   "source": [
    "# Lesson 5 Custom Convents"
   ]
  },
  {
   "cell_type": "code",
   "execution_count": null,
   "id": "2d578edc",
   "metadata": {},
   "outputs": [],
   "source": []
  },
  {
   "cell_type": "markdown",
   "id": "150c004d",
   "metadata": {},
   "source": [
    "# Lessson 6 Data Augumentation"
   ]
  },
  {
   "cell_type": "code",
   "execution_count": null,
   "id": "b0279607",
   "metadata": {},
   "outputs": [],
   "source": []
  }
 ],
 "metadata": {
  "kernelspec": {
   "display_name": "Python 3 (ipykernel)",
   "language": "python",
   "name": "python3"
  },
  "language_info": {
   "codemirror_mode": {
    "name": "ipython",
    "version": 3
   },
   "file_extension": ".py",
   "mimetype": "text/x-python",
   "name": "python",
   "nbconvert_exporter": "python",
   "pygments_lexer": "ipython3",
   "version": "3.11.3"
  }
 },
 "nbformat": 4,
 "nbformat_minor": 5
}
